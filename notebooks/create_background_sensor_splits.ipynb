{
 "cells": [
  {
   "cell_type": "code",
   "execution_count": 1,
   "metadata": {},
   "outputs": [],
   "source": [
    "import os\n",
    "import shutil"
   ]
  },
  {
   "cell_type": "code",
   "execution_count": 7,
   "metadata": {},
   "outputs": [],
   "source": [
    "background_dir = '/beegfs/jtc440/cdsd-data/background_clips_70/2017'"
   ]
  },
  {
   "cell_type": "code",
   "execution_count": 11,
   "metadata": {},
   "outputs": [
    {
     "name": "stdout",
     "output_type": "stream",
     "text": [
      "sonycnode-b827eb42bd4a.sonyc_recording_index:\t71\n",
      "sonycnode-b827eb86d458.sonyc_recording_index:\t4\n",
      "sonycnode-b827eb4cc22e.sonyc_recording_index:\t4\n",
      "sonycnode-b827eb1685c7.sonyc_recording_index:\t68\n",
      "sonycnode-b827eb0fedda.sonyc_recording_index:\t14\n",
      "sonycnode-b827eb5895e9.sonyc_recording_index:\t213\n",
      "sonycnode-b827eb2c65db.sonyc_recording_index:\t4\n",
      "sonycnode-b827eb815321.sonyc_recording_index:\t99\n",
      "sonycnode-b827eb0d8af7.sonyc_recording_index:\t1\n",
      "sonycnode-b827eb539980.sonyc_recording_index:\t20\n",
      "sonycnode-b827ebc6dcc6.sonyc_recording_index:\t13\n",
      "sonycnode-b827eb29eb77.sonyc_recording_index:\t2\n",
      "sonycnode-b827eb905497.sonyc_recording_index:\t20\n",
      "sonycnode-b827eb122f0f.sonyc_recording_index:\t4\n",
      "sonycnode-b827ebf31214.sonyc_recording_index:\t13\n"
     ]
    }
   ],
   "source": [
    "total = 0\n",
    "sensor_count = {}\n",
    "for dname in os.listdir(background_dir):\n",
    "    dpath = os.path.join(background_dir, dname)\n",
    "    if os.path.isfile(dpath):\n",
    "        continue\n",
    "    if not len(os.listdir(dpath)):\n",
    "        continue\n",
    "    if 'sonyc' not in dname:\n",
    "        continue\n",
    "    print(\"{}:\\t{}\".format(dname, len(os.listdir(dpath))))\n",
    "    total += len(os.listdir(dpath))\n",
    "    sensor_count[dname] = len(os.listdir(dpath))\n"
   ]
  },
  {
   "cell_type": "code",
   "execution_count": 12,
   "metadata": {},
   "outputs": [],
   "source": [
    "train_ratio = 0.6\n",
    "valid_ratio = 0.2\n",
    "test_ratio = 1 - train_ratio - valid_ratio"
   ]
  },
  {
   "cell_type": "code",
   "execution_count": 13,
   "metadata": {},
   "outputs": [],
   "source": [
    "train_sensors = {}\n",
    "train_capacity = int(train_ratio * total)\n",
    "while True:\n",
    "    avail_sensor_counts = {k:v for k,v in sensor_count.items() if v <= train_capacity}\n",
    "    if len(avail_sensor_counts) == 0:\n",
    "        break\n",
    "    sensor, count = max(avail_sensor_counts.items(), key=lambda x: x[1])\n",
    "    train_sensors[sensor] = count\n",
    "    train_capacity -= count\n",
    "    \n",
    "    sensor_count.pop(sensor)"
   ]
  },
  {
   "cell_type": "code",
   "execution_count": 14,
   "metadata": {},
   "outputs": [],
   "source": [
    "valid_sensors = {}\n",
    "valid_capacity = int(valid_ratio * total)\n",
    "while True:\n",
    "    avail_sensor_counts = {k:v for k,v in sensor_count.items() if v <= valid_capacity}\n",
    "    if len(avail_sensor_counts) == 0:\n",
    "        break\n",
    "    sensor, count = max(avail_sensor_counts.items(), key=lambda x: x[1])\n",
    "    valid_sensors[sensor] = count\n",
    "    valid_capacity -= count\n",
    "    \n",
    "    sensor_count.pop(sensor)"
   ]
  },
  {
   "cell_type": "code",
   "execution_count": 15,
   "metadata": {},
   "outputs": [],
   "source": [
    "test_sensors = {}\n",
    "test_capacity = int(test_ratio * total)\n",
    "while True:\n",
    "    avail_sensor_counts = {k:v for k,v in sensor_count.items() if v <= test_capacity}\n",
    "    if len(avail_sensor_counts) == 0:\n",
    "        break\n",
    "    sensor, count = max(avail_sensor_counts.items(), key=lambda x: x[1])\n",
    "    test_sensors[sensor] = count\n",
    "    test_capacity -= count\n",
    "    \n",
    "    sensor_count.pop(sensor)"
   ]
  },
  {
   "cell_type": "code",
   "execution_count": 16,
   "metadata": {},
   "outputs": [
    {
     "name": "stdout",
     "output_type": "stream",
     "text": [
      "Train:\n",
      "======================\n",
      "sonycnode-b827eb5895e9.sonyc_recording_index: 213\n",
      "sonycnode-b827eb815321.sonyc_recording_index: 99\n",
      "sonycnode-b827eb0fedda.sonyc_recording_index: 14\n",
      "sonycnode-b827eb86d458.sonyc_recording_index: 4\n",
      "\n",
      "Valid:\n",
      "======================\n",
      "sonycnode-b827eb42bd4a.sonyc_recording_index: 71\n",
      "sonycnode-b827eb539980.sonyc_recording_index: 20\n",
      "sonycnode-b827ebc6dcc6.sonyc_recording_index: 13\n",
      "sonycnode-b827eb4cc22e.sonyc_recording_index: 4\n",
      "sonycnode-b827eb29eb77.sonyc_recording_index: 2\n",
      "\n",
      "Test:\n",
      "======================\n",
      "sonycnode-b827eb1685c7.sonyc_recording_index: 68\n",
      "sonycnode-b827eb905497.sonyc_recording_index: 20\n",
      "sonycnode-b827ebf31214.sonyc_recording_index: 13\n",
      "sonycnode-b827eb2c65db.sonyc_recording_index: 4\n",
      "sonycnode-b827eb122f0f.sonyc_recording_index: 4\n",
      "sonycnode-b827eb0d8af7.sonyc_recording_index: 1\n"
     ]
    }
   ],
   "source": [
    "print(\"Train:\")\n",
    "print(\"======================\")\n",
    "for sensor, count in train_sensors.items():\n",
    "    print(\"{}: {}\".format(sensor, count))\n",
    "    \n",
    "print(\"\\nValid:\")\n",
    "print(\"======================\")\n",
    "for sensor, count in valid_sensors.items():\n",
    "    print(\"{}: {}\".format(sensor, count))\n",
    "print(\"\\nTest:\")\n",
    "print(\"======================\")\n",
    "for sensor, count in test_sensors.items():\n",
    "    print(\"{}: {}\".format(sensor, count))"
   ]
  },
  {
   "cell_type": "code",
   "execution_count": 17,
   "metadata": {},
   "outputs": [],
   "source": [
    "output_dir = '/beegfs/jtc440/cdsd-data/background_70_split'\n",
    "train_dir = os.path.join(output_dir, 'train', '2017')\n",
    "valid_dir = os.path.join(output_dir, 'valid', '2017')\n",
    "test_dir = os.path.join(output_dir, 'test', '2017')\n",
    "\n",
    "os.makedirs(train_dir, exist_ok=True)\n",
    "os.makedirs(valid_dir, exist_ok=True)\n",
    "os.makedirs(test_dir, exist_ok=True)\n",
    "\n",
    "for sensor in train_sensors.keys():\n",
    "    sensor_dir = os.path.join(background_dir, sensor)\n",
    "    for fname in os.listdir(sensor_dir):\n",
    "        src_fpath = os.path.join(sensor_dir, fname)\n",
    "        dst_fpath = os.path.join(train_dir)\n",
    "        shutil.copy(src_fpath, dst_fpath)\n",
    "        \n",
    "for sensor in valid_sensors.keys():\n",
    "    sensor_dir = os.path.join(background_dir, sensor)\n",
    "    for fname in os.listdir(sensor_dir):\n",
    "        src_fpath = os.path.join(sensor_dir, fname)\n",
    "        dst_fpath = os.path.join(valid_dir)\n",
    "        shutil.copy(src_fpath, dst_fpath)\n",
    "        \n",
    "for sensor in test_sensors.keys():\n",
    "    sensor_dir = os.path.join(background_dir, sensor)\n",
    "    for fname in os.listdir(sensor_dir):\n",
    "        src_fpath = os.path.join(sensor_dir, fname)\n",
    "        dst_fpath = os.path.join(test_dir)\n",
    "        shutil.copy(src_fpath, dst_fpath)"
   ]
  },
  {
   "cell_type": "code",
   "execution_count": null,
   "metadata": {},
   "outputs": [],
   "source": []
  }
 ],
 "metadata": {
  "kernelspec": {
   "display_name": "Python 3",
   "language": "python",
   "name": "python3"
  },
  "language_info": {
   "codemirror_mode": {
    "name": "ipython",
    "version": 3
   },
   "file_extension": ".py",
   "mimetype": "text/x-python",
   "name": "python",
   "nbconvert_exporter": "python",
   "pygments_lexer": "ipython3",
   "version": "3.6.10"
  }
 },
 "nbformat": 4,
 "nbformat_minor": 4
}
