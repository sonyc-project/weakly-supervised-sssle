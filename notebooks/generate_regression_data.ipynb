{
 "cells": [
  {
   "cell_type": "code",
   "execution_count": 1,
   "metadata": {},
   "outputs": [],
   "source": [
    "import json\n",
    "import os\n",
    "import shutil\n",
    "import tempfile\n",
    "import numpy as np\n",
    "import pandas as pd\n",
    "import torch\n",
    "import sys\n",
    "sys.path.append('../cdsd')\n",
    "\n",
    "from train_classifier import train as train_cls\n",
    "from train_separator import train as train_sep\n",
    "from train_fully_supervised_separator import train as train_sup_sep"
   ]
  },
  {
   "cell_type": "code",
   "execution_count": 2,
   "metadata": {},
   "outputs": [],
   "source": [
    "output_dir = '/tmp/cdsd-test-output'\n",
    "TRAIN_CONFIG_DIR = \"../tests/data/train_configs\"\n",
    "REGRESSION_DIR = '../tests/data/regression_data'\n",
    "AUDIO_DIR = '../tests/data/audio'\n",
    "\n",
    "CLASSIFIER_CLIP_CONFIG_PATH = os.path.join(TRAIN_CONFIG_DIR, \"crnn_classifier_clip.json\")\n",
    "CLASSIFIER_FRAME_CONFIG_PATH = os.path.join(TRAIN_CONFIG_DIR, \"crnn_classifier_frame.json\")\n",
    "SEPARATOR_CLIP_CONFIG_PATH = os.path.join(TRAIN_CONFIG_DIR, \"rnn_separator_crnn_classifier_clip_frozen.json\")\n",
    "SEPARATOR_FRAME_CONFIG_PATH = os.path.join(TRAIN_CONFIG_DIR, \"rnn_separator_crnn_classifier_frame_frozen.json\")\n",
    "SEPARATOR_SUPERVISED_CONFIG_PATH = os.path.join(TRAIN_CONFIG_DIR, \"rnn_separator_supervised.json\")\n",
    "\n",
    "CLASSIFIER_CLIP_REGRESSION_DIR = os.path.join(REGRESSION_DIR, \"crnn_classifier_clip\")\n",
    "CLASSIFIER_FRAME_REGRESSION_DIR = os.path.join(REGRESSION_DIR, \"crnn_classifier_frame\")\n",
    "SEPARATOR_CLIP_REGRESSION_DIR = os.path.join(REGRESSION_DIR, \"rnn_separator_crnn_classifier_clip_frozen\")\n",
    "SEPARATOR_FRAME_REGRESSION_DIR = os.path.join(REGRESSION_DIR, \"rnn_separator_crnn_classifier_frame_frozen\")\n",
    "SEPARATOR_SUPERVISED_REGRESSION_DIR = os.path.join(REGRESSION_DIR, \"rnn_separator_supervised\")"
   ]
  },
  {
   "cell_type": "code",
   "execution_count": 3,
   "metadata": {},
   "outputs": [
    {
     "name": "stderr",
     "output_type": "stream",
     "text": [
      "\r",
      "  0%|          | 0/1 [00:00<?, ?it/s]"
     ]
    },
    {
     "name": "stdout",
     "output_type": "stream",
     "text": [
      "=============== Epoch 1/1 =============== \n",
      " **** Training ****\n"
     ]
    },
    {
     "name": "stderr",
     "output_type": "stream",
     "text": [
      "100%|██████████| 1/1 [00:00<00:00,  1.76it/s]\n",
      "  0%|          | 0/1 [00:00<?, ?it/s]"
     ]
    },
    {
     "name": "stdout",
     "output_type": "stream",
     "text": [
      " **** Validation ****\n"
     ]
    },
    {
     "name": "stderr",
     "output_type": "stream",
     "text": [
      "100%|██████████| 1/1 [00:00<00:00,  3.51it/s]"
     ]
    },
    {
     "name": "stdout",
     "output_type": "stream",
     "text": [
      "Finished training. Results available at /tmp/cdsd-test-output/crnn_classifier_clip\n"
     ]
    },
    {
     "name": "stderr",
     "output_type": "stream",
     "text": [
      "\n"
     ]
    }
   ],
   "source": [
    "with open(CLASSIFIER_CLIP_CONFIG_PATH, 'r') as f:\n",
    "    cls_clip_config = json.load(f)\n",
    "    cls_clip_output_dir = os.path.join(output_dir, \"crnn_classifier_clip\")\n",
    "    train_cls(root_data_dir=AUDIO_DIR,\n",
    "              train_config=cls_clip_config,\n",
    "              output_dir=cls_clip_output_dir,\n",
    "              num_data_workers=1,\n",
    "              checkpoint_interval=1)"
   ]
  },
  {
   "cell_type": "code",
   "execution_count": 4,
   "metadata": {},
   "outputs": [
    {
     "name": "stderr",
     "output_type": "stream",
     "text": [
      "\r",
      "  0%|          | 0/1 [00:00<?, ?it/s]"
     ]
    },
    {
     "name": "stdout",
     "output_type": "stream",
     "text": [
      "=============== Epoch 1/1 =============== \n",
      " **** Training ****\n"
     ]
    },
    {
     "name": "stderr",
     "output_type": "stream",
     "text": [
      "100%|██████████| 1/1 [00:00<00:00,  1.51it/s]\n",
      "  0%|          | 0/1 [00:00<?, ?it/s]"
     ]
    },
    {
     "name": "stdout",
     "output_type": "stream",
     "text": [
      " **** Validation ****\n"
     ]
    },
    {
     "name": "stderr",
     "output_type": "stream",
     "text": [
      "100%|██████████| 1/1 [00:00<00:00,  3.41it/s]"
     ]
    },
    {
     "name": "stdout",
     "output_type": "stream",
     "text": [
      "Finished training. Results available at /tmp/cdsd-test-output/crnn_classifier_frame\n"
     ]
    },
    {
     "name": "stderr",
     "output_type": "stream",
     "text": [
      "\n"
     ]
    }
   ],
   "source": [
    "with open(CLASSIFIER_FRAME_CONFIG_PATH, 'r') as f:\n",
    "    cls_frame_config = json.load(f)\n",
    "    cls_frame_output_dir = os.path.join(output_dir, \"crnn_classifier_frame\")\n",
    "    train_cls(root_data_dir=AUDIO_DIR,\n",
    "              train_config=cls_frame_config,\n",
    "              output_dir=cls_frame_output_dir,\n",
    "              num_data_workers=1,\n",
    "              checkpoint_interval=1)"
   ]
  },
  {
   "cell_type": "code",
   "execution_count": 5,
   "metadata": {},
   "outputs": [
    {
     "name": "stderr",
     "output_type": "stream",
     "text": [
      "\r",
      "  0%|          | 0/1 [00:00<?, ?it/s]"
     ]
    },
    {
     "name": "stdout",
     "output_type": "stream",
     "text": [
      "Loaded classifier weights from /tmp/cdsd-test-output/crnn_classifier_clip/classifier_best.pt\n",
      "=============== Epoch 1/1 =============== \n",
      " **** Training ****\n",
      "Input size: torch.Size([1, 1, 257, 501])\n"
     ]
    },
    {
     "name": "stderr",
     "output_type": "stream",
     "text": [
      "100%|██████████| 1/1 [00:10<00:00, 10.56s/it]\n",
      "  0%|          | 0/1 [00:00<?, ?it/s]"
     ]
    },
    {
     "name": "stdout",
     "output_type": "stream",
     "text": [
      " **** Validation ****\n"
     ]
    },
    {
     "name": "stderr",
     "output_type": "stream",
     "text": [
      "100%|██████████| 1/1 [00:01<00:00,  1.60s/it]\n"
     ]
    },
    {
     "name": "stdout",
     "output_type": "stream",
     "text": [
      "Finished training. Results available at /tmp/cdsd-test-output/rnn_separator_crnn_classifier_clip_frozen\n"
     ]
    }
   ],
   "source": [
    "with open(SEPARATOR_CLIP_CONFIG_PATH, 'r') as f:\n",
    "    sep_clip_config = json.load(f)\n",
    "    sep_clip_output_dir = os.path.join(output_dir, \"rnn_separator_crnn_classifier_clip_frozen\")\n",
    "    train_sep(root_data_dir=AUDIO_DIR,\n",
    "              train_config=sep_clip_config,\n",
    "              output_dir=sep_clip_output_dir,\n",
    "              num_data_workers=1,\n",
    "              checkpoint_interval=1,\n",
    "              num_debug_examples=1,\n",
    "              save_debug_interval=1)"
   ]
  },
  {
   "cell_type": "code",
   "execution_count": 6,
   "metadata": {},
   "outputs": [
    {
     "name": "stderr",
     "output_type": "stream",
     "text": [
      "\r",
      "  0%|          | 0/1 [00:00<?, ?it/s]"
     ]
    },
    {
     "name": "stdout",
     "output_type": "stream",
     "text": [
      "Loaded classifier weights from /tmp/cdsd-test-output/crnn_classifier_frame/classifier_best.pt\n",
      "=============== Epoch 1/1 =============== \n",
      " **** Training ****\n",
      "Input size: torch.Size([1, 1, 257, 501])\n"
     ]
    },
    {
     "name": "stderr",
     "output_type": "stream",
     "text": [
      "100%|██████████| 1/1 [00:11<00:00, 11.25s/it]\n",
      "  0%|          | 0/1 [00:00<?, ?it/s]"
     ]
    },
    {
     "name": "stdout",
     "output_type": "stream",
     "text": [
      " **** Validation ****\n"
     ]
    },
    {
     "name": "stderr",
     "output_type": "stream",
     "text": [
      "100%|██████████| 1/1 [00:01<00:00,  1.38s/it]\n"
     ]
    },
    {
     "name": "stdout",
     "output_type": "stream",
     "text": [
      "Finished training. Results available at /tmp/cdsd-test-output/rnn_separator_crnn_classifier_frame_frozen\n"
     ]
    }
   ],
   "source": [
    "with open(SEPARATOR_FRAME_CONFIG_PATH, 'r') as f:\n",
    "    sep_frame_config = json.load(f)\n",
    "    sep_frame_output_dir = os.path.join(output_dir, \"rnn_separator_crnn_classifier_frame_frozen\")\n",
    "    train_sep(root_data_dir=AUDIO_DIR,\n",
    "              train_config=sep_frame_config,\n",
    "              output_dir=sep_frame_output_dir,\n",
    "              num_data_workers=1,\n",
    "              checkpoint_interval=1,\n",
    "              num_debug_examples=1,\n",
    "              save_debug_interval=1)"
   ]
  },
  {
   "cell_type": "code",
   "execution_count": 7,
   "metadata": {},
   "outputs": [
    {
     "name": "stderr",
     "output_type": "stream",
     "text": [
      "\r",
      "  0%|          | 0/1 [00:00<?, ?it/s]"
     ]
    },
    {
     "name": "stdout",
     "output_type": "stream",
     "text": [
      "=============== Epoch 1/1 =============== \n",
      " **** Training ****\n",
      "Input size: torch.Size([1, 1, 257, 501])\n"
     ]
    },
    {
     "name": "stderr",
     "output_type": "stream",
     "text": [
      "100%|██████████| 1/1 [00:09<00:00,  9.43s/it]\n",
      "  0%|          | 0/1 [00:00<?, ?it/s]"
     ]
    },
    {
     "name": "stdout",
     "output_type": "stream",
     "text": [
      " **** Validation ****\n"
     ]
    },
    {
     "name": "stderr",
     "output_type": "stream",
     "text": [
      "100%|██████████| 1/1 [00:00<00:00,  1.42it/s]\n"
     ]
    },
    {
     "name": "stdout",
     "output_type": "stream",
     "text": [
      "Finished training. Results available at /tmp/cdsd-test-output/rnn_separator_supervised\n"
     ]
    }
   ],
   "source": [
    "with open(SEPARATOR_SUPERVISED_CONFIG_PATH, 'r') as f:\n",
    "    sup_sep_config = json.load(f)\n",
    "    sup_sep_output_dir = os.path.join(output_dir, \"rnn_separator_supervised\")\n",
    "    train_sup_sep(root_data_dir=AUDIO_DIR,\n",
    "                  train_config=sup_sep_config,\n",
    "                  output_dir=sup_sep_output_dir,\n",
    "                  num_data_workers=1,\n",
    "                  checkpoint_interval=1,\n",
    "                  num_debug_examples=1,\n",
    "                  save_debug_interval=1)"
   ]
  },
  {
   "cell_type": "code",
   "execution_count": 8,
   "metadata": {},
   "outputs": [],
   "source": [
    "shutil.rmtree(CLASSIFIER_CLIP_REGRESSION_DIR)\n",
    "shutil.rmtree(CLASSIFIER_FRAME_REGRESSION_DIR)\n",
    "shutil.rmtree(SEPARATOR_CLIP_REGRESSION_DIR)\n",
    "shutil.rmtree(SEPARATOR_FRAME_REGRESSION_DIR)\n",
    "shutil.rmtree(SEPARATOR_SUPERVISED_REGRESSION_DIR)"
   ]
  },
  {
   "cell_type": "code",
   "execution_count": 9,
   "metadata": {},
   "outputs": [
    {
     "data": {
      "text/plain": [
       "'../tests/data/regression_data/rnn_separator_supervised'"
      ]
     },
     "execution_count": 9,
     "metadata": {},
     "output_type": "execute_result"
    }
   ],
   "source": [
    "shutil.copytree(cls_clip_output_dir, CLASSIFIER_CLIP_REGRESSION_DIR)\n",
    "shutil.copytree(cls_frame_output_dir, CLASSIFIER_FRAME_REGRESSION_DIR)\n",
    "shutil.copytree(sep_clip_output_dir, SEPARATOR_CLIP_REGRESSION_DIR)\n",
    "shutil.copytree(sep_frame_output_dir, SEPARATOR_FRAME_REGRESSION_DIR)\n",
    "shutil.copytree(sup_sep_output_dir, SEPARATOR_SUPERVISED_REGRESSION_DIR)"
   ]
  },
  {
   "cell_type": "code",
   "execution_count": 10,
   "metadata": {},
   "outputs": [],
   "source": [
    "shutil.rmtree(cls_clip_output_dir)\n",
    "shutil.rmtree(cls_frame_output_dir)\n",
    "shutil.rmtree(sep_clip_output_dir)\n",
    "shutil.rmtree(sep_frame_output_dir)\n",
    "shutil.rmtree(sup_sep_output_dir)"
   ]
  },
  {
   "cell_type": "code",
   "execution_count": null,
   "metadata": {},
   "outputs": [],
   "source": []
  }
 ],
 "metadata": {
  "kernelspec": {
   "display_name": "Python 3",
   "language": "python",
   "name": "python3"
  },
  "language_info": {
   "codemirror_mode": {
    "name": "ipython",
    "version": 3
   },
   "file_extension": ".py",
   "mimetype": "text/x-python",
   "name": "python",
   "nbconvert_exporter": "python",
   "pygments_lexer": "ipython3",
   "version": "3.6.7"
  }
 },
 "nbformat": 4,
 "nbformat_minor": 4
}
